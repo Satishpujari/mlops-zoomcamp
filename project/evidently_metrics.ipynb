{
 "cells": [
  {
   "cell_type": "code",
   "execution_count": 1,
   "metadata": {},
   "outputs": [],
   "source": [
    "import pandas as pd"
   ]
  },
  {
   "cell_type": "code",
   "execution_count": 2,
   "metadata": {},
   "outputs": [],
   "source": [
    "df = pd.read_csv('/workspaces/mlops-zoomcamp/project/data/flight_dataset.csv')\n",
    "\n",
    "# Split into training and test data\n",
    "train_data = df.sample(frac=0.8, random_state=42)\n",
    "test_data = df.drop(train_data.index)"
   ]
  },
  {
   "cell_type": "code",
   "execution_count": 3,
   "metadata": {},
   "outputs": [],
   "source": [
    "# Save to CSV\n",
    "train_data.to_csv('train_data.csv', index=False)\n",
    "test_data.to_csv('test_data.csv', index=False)"
   ]
  },
  {
   "cell_type": "code",
   "execution_count": 4,
   "metadata": {},
   "outputs": [],
   "source": [
    "import evidently"
   ]
  },
  {
   "cell_type": "code",
   "execution_count": 20,
   "metadata": {},
   "outputs": [
    {
     "name": "stdout",
     "output_type": "stream",
     "text": [
      "Requirement already satisfied: evidently in /workspaces/mlops-zoomcamp/mlmodel/lib/python3.10/site-packages (0.4.30)\n",
      "Requirement already satisfied: rich>=13 in /workspaces/mlops-zoomcamp/mlmodel/lib/python3.10/site-packages (from evidently) (13.7.1)\n",
      "Requirement already satisfied: dynaconf>=3.2.4 in /workspaces/mlops-zoomcamp/mlmodel/lib/python3.10/site-packages (from evidently) (3.2.5)\n",
      "Requirement already satisfied: uvicorn[standard]>=0.22.0 in /workspaces/mlops-zoomcamp/mlmodel/lib/python3.10/site-packages (from evidently) (0.30.1)\n",
      "Requirement already satisfied: pydantic>=1.10.13 in /workspaces/mlops-zoomcamp/mlmodel/lib/python3.10/site-packages (from evidently) (2.8.0)\n",
      "Requirement already satisfied: litestar>=2.8.3 in /workspaces/mlops-zoomcamp/mlmodel/lib/python3.10/site-packages (from evidently) (2.9.1)\n",
      "Requirement already satisfied: scipy>=1.10.0 in /workspaces/mlops-zoomcamp/mlmodel/lib/python3.10/site-packages (from evidently) (1.14.0)\n",
      "Requirement already satisfied: typer>=0.3 in /workspaces/mlops-zoomcamp/mlmodel/lib/python3.10/site-packages (from evidently) (0.12.3)\n",
      "Requirement already satisfied: plotly>=5.10.0 in /workspaces/mlops-zoomcamp/mlmodel/lib/python3.10/site-packages (from evidently) (5.22.0)\n",
      "Requirement already satisfied: numpy>=1.22.0 in /workspaces/mlops-zoomcamp/mlmodel/lib/python3.10/site-packages (from evidently) (1.26.4)\n",
      "Requirement already satisfied: pandas[parquet]>=1.3.5 in /workspaces/mlops-zoomcamp/mlmodel/lib/python3.10/site-packages (from evidently) (2.2.2)\n",
      "Requirement already satisfied: typing-inspect>=0.9.0 in /workspaces/mlops-zoomcamp/mlmodel/lib/python3.10/site-packages (from evidently) (0.9.0)\n",
      "Requirement already satisfied: certifi>=2023.07.22 in /workspaces/mlops-zoomcamp/mlmodel/lib/python3.10/site-packages (from evidently) (2024.6.2)\n",
      "Requirement already satisfied: nltk>=3.6.7 in /workspaces/mlops-zoomcamp/mlmodel/lib/python3.10/site-packages (from evidently) (3.8.1)\n",
      "Requirement already satisfied: requests>=2.32.0 in /workspaces/mlops-zoomcamp/mlmodel/lib/python3.10/site-packages (from evidently) (2.32.3)\n",
      "Requirement already satisfied: iterative-telemetry>=0.0.5 in /workspaces/mlops-zoomcamp/mlmodel/lib/python3.10/site-packages (from evidently) (0.0.8)\n",
      "Requirement already satisfied: ujson>=5.4.0 in /workspaces/mlops-zoomcamp/mlmodel/lib/python3.10/site-packages (from evidently) (5.10.0)\n",
      "Requirement already satisfied: scikit-learn>=1.0.1 in /workspaces/mlops-zoomcamp/mlmodel/lib/python3.10/site-packages (from evidently) (1.5.0)\n",
      "Requirement already satisfied: fsspec>=2024.2.0 in /workspaces/mlops-zoomcamp/mlmodel/lib/python3.10/site-packages (from evidently) (2024.6.1)\n",
      "Requirement already satisfied: PyYAML>=5.4 in /workspaces/mlops-zoomcamp/mlmodel/lib/python3.10/site-packages (from evidently) (6.0.1)\n",
      "Requirement already satisfied: watchdog>=3.0.0 in /workspaces/mlops-zoomcamp/mlmodel/lib/python3.10/site-packages (from evidently) (4.0.1)\n",
      "Requirement already satisfied: urllib3>=1.26.19 in /workspaces/mlops-zoomcamp/mlmodel/lib/python3.10/site-packages (from evidently) (2.2.2)\n",
      "Requirement already satisfied: statsmodels>=0.12.2 in /workspaces/mlops-zoomcamp/mlmodel/lib/python3.10/site-packages (from evidently) (0.14.2)\n",
      "Requirement already satisfied: distro in /workspaces/mlops-zoomcamp/mlmodel/lib/python3.10/site-packages (from iterative-telemetry>=0.0.5->evidently) (1.9.0)\n",
      "Requirement already satisfied: filelock in /workspaces/mlops-zoomcamp/mlmodel/lib/python3.10/site-packages (from iterative-telemetry>=0.0.5->evidently) (3.15.4)\n",
      "Requirement already satisfied: appdirs in /workspaces/mlops-zoomcamp/mlmodel/lib/python3.10/site-packages (from iterative-telemetry>=0.0.5->evidently) (1.4.4)\n",
      "Requirement already satisfied: exceptiongroup in /workspaces/mlops-zoomcamp/mlmodel/lib/python3.10/site-packages (from litestar>=2.8.3->evidently) (1.2.1)\n",
      "Requirement already satisfied: click in /workspaces/mlops-zoomcamp/mlmodel/lib/python3.10/site-packages (from litestar>=2.8.3->evidently) (8.1.7)\n",
      "Requirement already satisfied: multidict>=6.0.2 in /workspaces/mlops-zoomcamp/mlmodel/lib/python3.10/site-packages (from litestar>=2.8.3->evidently) (6.0.5)\n",
      "Requirement already satisfied: httpx>=0.22 in /workspaces/mlops-zoomcamp/mlmodel/lib/python3.10/site-packages (from litestar>=2.8.3->evidently) (0.27.0)\n",
      "Requirement already satisfied: typing-extensions in /workspaces/mlops-zoomcamp/mlmodel/lib/python3.10/site-packages (from litestar>=2.8.3->evidently) (4.12.2)\n",
      "Requirement already satisfied: polyfactory>=2.6.3 in /workspaces/mlops-zoomcamp/mlmodel/lib/python3.10/site-packages (from litestar>=2.8.3->evidently) (2.16.0)\n",
      "Requirement already satisfied: anyio>=3 in /workspaces/mlops-zoomcamp/mlmodel/lib/python3.10/site-packages (from litestar>=2.8.3->evidently) (4.4.0)\n",
      "Requirement already satisfied: rich-click in /workspaces/mlops-zoomcamp/mlmodel/lib/python3.10/site-packages (from litestar>=2.8.3->evidently) (1.8.3)\n",
      "Requirement already satisfied: msgspec>=0.18.2 in /workspaces/mlops-zoomcamp/mlmodel/lib/python3.10/site-packages (from litestar>=2.8.3->evidently) (0.18.6)\n",
      "Requirement already satisfied: joblib in /workspaces/mlops-zoomcamp/mlmodel/lib/python3.10/site-packages (from nltk>=3.6.7->evidently) (1.4.2)\n",
      "Requirement already satisfied: regex>=2021.8.3 in /workspaces/mlops-zoomcamp/mlmodel/lib/python3.10/site-packages (from nltk>=3.6.7->evidently) (2024.5.15)\n",
      "Requirement already satisfied: tqdm in /workspaces/mlops-zoomcamp/mlmodel/lib/python3.10/site-packages (from nltk>=3.6.7->evidently) (4.66.4)\n",
      "Requirement already satisfied: pytz>=2020.1 in /workspaces/mlops-zoomcamp/mlmodel/lib/python3.10/site-packages (from pandas[parquet]>=1.3.5->evidently) (2024.1)\n",
      "Requirement already satisfied: python-dateutil>=2.8.2 in /workspaces/mlops-zoomcamp/mlmodel/lib/python3.10/site-packages (from pandas[parquet]>=1.3.5->evidently) (2.9.0.post0)\n",
      "Requirement already satisfied: tzdata>=2022.7 in /workspaces/mlops-zoomcamp/mlmodel/lib/python3.10/site-packages (from pandas[parquet]>=1.3.5->evidently) (2024.1)\n",
      "Requirement already satisfied: pyarrow>=10.0.1 in /workspaces/mlops-zoomcamp/mlmodel/lib/python3.10/site-packages (from pandas[parquet]>=1.3.5->evidently) (15.0.2)\n",
      "Requirement already satisfied: tenacity>=6.2.0 in /workspaces/mlops-zoomcamp/mlmodel/lib/python3.10/site-packages (from plotly>=5.10.0->evidently) (8.4.2)\n",
      "Requirement already satisfied: packaging in /workspaces/mlops-zoomcamp/mlmodel/lib/python3.10/site-packages (from plotly>=5.10.0->evidently) (24.1)\n",
      "Requirement already satisfied: annotated-types>=0.4.0 in /workspaces/mlops-zoomcamp/mlmodel/lib/python3.10/site-packages (from pydantic>=1.10.13->evidently) (0.7.0)\n",
      "Requirement already satisfied: pydantic-core==2.20.0 in /workspaces/mlops-zoomcamp/mlmodel/lib/python3.10/site-packages (from pydantic>=1.10.13->evidently) (2.20.0)\n",
      "Requirement already satisfied: charset-normalizer<4,>=2 in /workspaces/mlops-zoomcamp/mlmodel/lib/python3.10/site-packages (from requests>=2.32.0->evidently) (3.3.2)\n",
      "Requirement already satisfied: idna<4,>=2.5 in /workspaces/mlops-zoomcamp/mlmodel/lib/python3.10/site-packages (from requests>=2.32.0->evidently) (3.7)\n",
      "Requirement already satisfied: pygments<3.0.0,>=2.13.0 in /workspaces/mlops-zoomcamp/mlmodel/lib/python3.10/site-packages (from rich>=13->evidently) (2.18.0)\n",
      "Requirement already satisfied: markdown-it-py>=2.2.0 in /workspaces/mlops-zoomcamp/mlmodel/lib/python3.10/site-packages (from rich>=13->evidently) (3.0.0)\n",
      "Requirement already satisfied: threadpoolctl>=3.1.0 in /workspaces/mlops-zoomcamp/mlmodel/lib/python3.10/site-packages (from scikit-learn>=1.0.1->evidently) (3.5.0)\n",
      "Requirement already satisfied: patsy>=0.5.6 in /workspaces/mlops-zoomcamp/mlmodel/lib/python3.10/site-packages (from statsmodels>=0.12.2->evidently) (0.5.6)\n",
      "Requirement already satisfied: shellingham>=1.3.0 in /workspaces/mlops-zoomcamp/mlmodel/lib/python3.10/site-packages (from typer>=0.3->evidently) (1.5.4)\n",
      "Requirement already satisfied: mypy-extensions>=0.3.0 in /workspaces/mlops-zoomcamp/mlmodel/lib/python3.10/site-packages (from typing-inspect>=0.9.0->evidently) (1.0.0)\n",
      "Requirement already satisfied: h11>=0.8 in /workspaces/mlops-zoomcamp/mlmodel/lib/python3.10/site-packages (from uvicorn[standard]>=0.22.0->evidently) (0.14.0)\n",
      "Requirement already satisfied: watchfiles>=0.13 in /workspaces/mlops-zoomcamp/mlmodel/lib/python3.10/site-packages (from uvicorn[standard]>=0.22.0->evidently) (0.22.0)\n",
      "Requirement already satisfied: httptools>=0.5.0 in /workspaces/mlops-zoomcamp/mlmodel/lib/python3.10/site-packages (from uvicorn[standard]>=0.22.0->evidently) (0.6.1)\n",
      "Requirement already satisfied: python-dotenv>=0.13 in /workspaces/mlops-zoomcamp/mlmodel/lib/python3.10/site-packages (from uvicorn[standard]>=0.22.0->evidently) (1.0.1)\n",
      "Requirement already satisfied: uvloop!=0.15.0,!=0.15.1,>=0.14.0 in /workspaces/mlops-zoomcamp/mlmodel/lib/python3.10/site-packages (from uvicorn[standard]>=0.22.0->evidently) (0.19.0)\n",
      "Requirement already satisfied: websockets>=10.4 in /workspaces/mlops-zoomcamp/mlmodel/lib/python3.10/site-packages (from uvicorn[standard]>=0.22.0->evidently) (12.0)\n",
      "Requirement already satisfied: sniffio>=1.1 in /workspaces/mlops-zoomcamp/mlmodel/lib/python3.10/site-packages (from anyio>=3->litestar>=2.8.3->evidently) (1.3.1)\n",
      "Requirement already satisfied: httpcore==1.* in /workspaces/mlops-zoomcamp/mlmodel/lib/python3.10/site-packages (from httpx>=0.22->litestar>=2.8.3->evidently) (1.0.5)\n",
      "Requirement already satisfied: mdurl~=0.1 in /workspaces/mlops-zoomcamp/mlmodel/lib/python3.10/site-packages (from markdown-it-py>=2.2.0->rich>=13->evidently) (0.1.2)\n",
      "Requirement already satisfied: six in /workspaces/mlops-zoomcamp/mlmodel/lib/python3.10/site-packages (from patsy>=0.5.6->statsmodels>=0.12.2->evidently) (1.16.0)\n",
      "Requirement already satisfied: faker in /workspaces/mlops-zoomcamp/mlmodel/lib/python3.10/site-packages (from polyfactory>=2.6.3->litestar>=2.8.3->evidently) (26.0.0)\n",
      "\n",
      "\u001b[1m[\u001b[0m\u001b[34;49mnotice\u001b[0m\u001b[1;39;49m]\u001b[0m\u001b[39;49m A new release of pip is available: \u001b[0m\u001b[31;49m23.0.1\u001b[0m\u001b[39;49m -> \u001b[0m\u001b[32;49m24.1.1\u001b[0m\n",
      "\u001b[1m[\u001b[0m\u001b[34;49mnotice\u001b[0m\u001b[1;39;49m]\u001b[0m\u001b[39;49m To update, run: \u001b[0m\u001b[32;49mpip install --upgrade pip\u001b[0m\n",
      "Note: you may need to restart the kernel to use updated packages.\n"
     ]
    }
   ],
   "source": [
    "pip install evidently"
   ]
  },
  {
   "cell_type": "code",
   "execution_count": 14,
   "metadata": {},
   "outputs": [
    {
     "name": "stdout",
     "output_type": "stream",
     "text": [
      "0.4.30\n"
     ]
    }
   ],
   "source": [
    "import evidently\n",
    "\n",
    "print(evidently.__version__)"
   ]
  },
  {
   "cell_type": "code",
   "execution_count": 16,
   "metadata": {},
   "outputs": [
    {
     "name": "stderr",
     "output_type": "stream",
     "text": [
      "/workspaces/mlops-zoomcamp/mlmodel/lib/python3.10/site-packages/numpy/lib/function_base.py:2897: RuntimeWarning:\n",
      "\n",
      "invalid value encountered in divide\n",
      "\n",
      "/workspaces/mlops-zoomcamp/mlmodel/lib/python3.10/site-packages/numpy/lib/function_base.py:2898: RuntimeWarning:\n",
      "\n",
      "invalid value encountered in divide\n",
      "\n",
      "/workspaces/mlops-zoomcamp/mlmodel/lib/python3.10/site-packages/numpy/lib/function_base.py:2897: RuntimeWarning:\n",
      "\n",
      "invalid value encountered in divide\n",
      "\n",
      "/workspaces/mlops-zoomcamp/mlmodel/lib/python3.10/site-packages/numpy/lib/function_base.py:2898: RuntimeWarning:\n",
      "\n",
      "invalid value encountered in divide\n",
      "\n",
      "/workspaces/mlops-zoomcamp/mlmodel/lib/python3.10/site-packages/numpy/lib/function_base.py:2897: RuntimeWarning:\n",
      "\n",
      "invalid value encountered in divide\n",
      "\n",
      "/workspaces/mlops-zoomcamp/mlmodel/lib/python3.10/site-packages/numpy/lib/function_base.py:2898: RuntimeWarning:\n",
      "\n",
      "invalid value encountered in divide\n",
      "\n",
      "/workspaces/mlops-zoomcamp/mlmodel/lib/python3.10/site-packages/numpy/lib/function_base.py:2897: RuntimeWarning:\n",
      "\n",
      "invalid value encountered in divide\n",
      "\n",
      "/workspaces/mlops-zoomcamp/mlmodel/lib/python3.10/site-packages/numpy/lib/function_base.py:2898: RuntimeWarning:\n",
      "\n",
      "invalid value encountered in divide\n",
      "\n"
     ]
    }
   ],
   "source": [
    "import pandas as pd\n",
    "from fastapi import FastAPI\n",
    "from fastapi.responses import HTMLResponse\n",
    "from evidently.report import Report\n",
    "from  evidently.metric_preset import DataDriftPreset,TargetDriftPreset,DataQualityPreset\n",
    "from evidently.metrics import DatasetMissingValuesMetric\n",
    "from evidently.ui.workspace import Workspace\n",
    "from evidently.ui.dashboards import DashboardPanelCounter,DashboardPanelPlot, CounterAgg,PanelValue,PlotType,ReportFilter\n",
    "import nest_asyncio\n",
    "import uvicorn\n",
    "from threading import Thread\n",
    "\n",
    "ws=Workspace(\"workspace\")\n",
    "project=ws.create_project(\"flight price prediction project\")\n",
    "project.save()\n",
    "# Load your datasets\n",
    "train_data = pd.read_csv('train_data.csv')\n",
    "test_data = pd.read_csv('test_data.csv')\n",
    "\n",
    "report = Report(metrics=[DataQualityPreset(),DataDriftPreset(),TargetDriftPreset(),DatasetMissingValuesMetric()])\n",
    "\n",
    "# Generate the report\n",
    "report.run(reference_data=train_data, current_data=test_data)\n",
    "report.show(mode='inline')\n",
    "report.save_html(\"evidently_report.html\")"
   ]
  },
  {
   "cell_type": "code",
   "execution_count": null,
   "metadata": {},
   "outputs": [],
   "source": []
  }
 ],
 "metadata": {
  "kernelspec": {
   "display_name": "mlmodel",
   "language": "python",
   "name": "python3"
  },
  "language_info": {
   "codemirror_mode": {
    "name": "ipython",
    "version": 3
   },
   "file_extension": ".py",
   "mimetype": "text/x-python",
   "name": "python",
   "nbconvert_exporter": "python",
   "pygments_lexer": "ipython3",
   "version": "3.10.13"
  }
 },
 "nbformat": 4,
 "nbformat_minor": 2
}
