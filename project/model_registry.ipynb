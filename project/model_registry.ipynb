{
 "cells": [
  {
   "cell_type": "code",
   "execution_count": 1,
   "metadata": {},
   "outputs": [],
   "source": [
    "import mlflow\n",
    "import mlflow.sklearn"
   ]
  },
  {
   "cell_type": "code",
   "execution_count": 2,
   "metadata": {},
   "outputs": [
    {
     "data": {
      "text/plain": [
       "<Experiment: artifact_location='/workspaces/mlops-zoomcamp/project/mlruns/1', creation_time=1719908297003, experiment_id='1', last_update_time=1719908297003, lifecycle_stage='active', name='nyc-taxi-experiment', tags={}>"
      ]
     },
     "execution_count": 2,
     "metadata": {},
     "output_type": "execute_result"
    }
   ],
   "source": [
    "MLFLOW_TRACKING_URI = \"sqlite:///mlflow.db\"\n",
    "mlflow.set_tracking_uri(MLFLOW_TRACKING_URI)\n",
    "mlflow.set_experiment(\"nyc-taxi-experiment\")"
   ]
  },
  {
   "cell_type": "code",
   "execution_count": 8,
   "metadata": {},
   "outputs": [
    {
     "ename": "NameError",
     "evalue": "name 'experiment_name' is not defined",
     "output_type": "error",
     "traceback": [
      "\u001b[0;31m---------------------------------------------------------------------------\u001b[0m",
      "\u001b[0;31mNameError\u001b[0m                                 Traceback (most recent call last)",
      "Cell \u001b[0;32mIn[8], line 26\u001b[0m\n\u001b[1;32m     23\u001b[0m     preprocessor \u001b[38;5;241m=\u001b[39m mlflow\u001b[38;5;241m.\u001b[39msklearn\u001b[38;5;241m.\u001b[39mload_model(preprocessor_uri)\n\u001b[1;32m     25\u001b[0m     \u001b[38;5;28;01mreturn\u001b[39;00m model,preprocessor\n\u001b[0;32m---> 26\u001b[0m run_id \u001b[38;5;241m=\u001b[39m get_latest_run_id(\u001b[43mexperiment_name\u001b[49m)\n\u001b[1;32m     27\u001b[0m model_name \u001b[38;5;241m=\u001b[39m \u001b[38;5;124m\"\u001b[39m\u001b[38;5;124mflight_price_predictor\u001b[39m\u001b[38;5;124m\"\u001b[39m\n\u001b[1;32m     28\u001b[0m model_uri \u001b[38;5;241m=\u001b[39m \u001b[38;5;124mf\u001b[39m\u001b[38;5;124m\"\u001b[39m\u001b[38;5;124mruns:/\u001b[39m\u001b[38;5;132;01m{\u001b[39;00mrun_id\u001b[38;5;132;01m}\u001b[39;00m\u001b[38;5;124m/model\u001b[39m\u001b[38;5;124m\"\u001b[39m\n",
      "\u001b[0;31mNameError\u001b[0m: name 'experiment_name' is not defined"
     ]
    }
   ],
   "source": [
    "def get_latest_run_id(experiment_name):\n",
    "    client = MlflowClient()\n",
    "    experiment_id = '1'\n",
    "    experiment = client.get_experiment_by_name(experiment_name)\n",
    "    if experiment:\n",
    "        experiment_id = experiment.experiment_id\n",
    "        runs = client.search_runs(experiment_id, order_by=[\"start_time DESC\"], max_results=1)\n",
    "        if runs:\n",
    "            return runs[0].info.run_id\n",
    "    return None\n",
    "def load_model_and_preprocessor():\n",
    "    experiment_name = 'nyc-taxi-experiment'\n",
    "    run_id = get_latest_run_id(experiment_name)\n",
    "    print(\"the run_id is \", run_id)\n",
    "\n",
    "    if run_id is None:\n",
    "        raise Exception(f\"No runs found for experiment '{experiment_name}'\")\n",
    "\n",
    "    # Load the model from MLflow using the latest run ID\n",
    "    logged_model = f'runs:/{run_id}/model'\n",
    "    preprocessor_uri = f\"runs:/{run_id}/preprocessor\"\n",
    "    model = mlflow.sklearn.load_model(logged_model)\n",
    "    preprocessor = mlflow.sklearn.load_model(preprocessor_uri)\n",
    "\n",
    "    return model,preprocessor\n",
    "experiment_name = 'nyc-taxi-experiment'\n",
    "run_id = get_latest_run_id(experiment_name)\n",
    "model_name = \"flight_price_predictor\"\n",
    "model_uri = f\"runs:/{run_id}/model\"\n",
    "mlflow.register_model(model_uri, model_name)\n",
    "\n",
    "preprocessor_name = \"flight_price_preprocessor\"\n",
    "preprocessor_uri = f\"runs:/{run_id}/preprocessor\"\n",
    "mlflow.register_model(preprocessor_uri, preprocessor_name)"
   ]
  },
  {
   "cell_type": "code",
   "execution_count": 6,
   "metadata": {},
   "outputs": [
    {
     "ename": "NameError",
     "evalue": "name 'run_id' is not defined",
     "output_type": "error",
     "traceback": [
      "\u001b[0;31m---------------------------------------------------------------------------\u001b[0m",
      "\u001b[0;31mNameError\u001b[0m                                 Traceback (most recent call last)",
      "Cell \u001b[0;32mIn[6], line 2\u001b[0m\n\u001b[1;32m      1\u001b[0m model_name \u001b[38;5;241m=\u001b[39m \u001b[38;5;124m\"\u001b[39m\u001b[38;5;124mflight_price_predictor\u001b[39m\u001b[38;5;124m\"\u001b[39m\n\u001b[0;32m----> 2\u001b[0m model_uri \u001b[38;5;241m=\u001b[39m \u001b[38;5;124mf\u001b[39m\u001b[38;5;124m\"\u001b[39m\u001b[38;5;124mruns:/\u001b[39m\u001b[38;5;132;01m{\u001b[39;00m\u001b[43mrun_id\u001b[49m\u001b[38;5;132;01m}\u001b[39;00m\u001b[38;5;124m/model\u001b[39m\u001b[38;5;124m\"\u001b[39m\n\u001b[1;32m      3\u001b[0m mlflow\u001b[38;5;241m.\u001b[39mregister_model(model_uri, model_name)\n\u001b[1;32m      5\u001b[0m preprocessor_name \u001b[38;5;241m=\u001b[39m \u001b[38;5;124m\"\u001b[39m\u001b[38;5;124mflight_price_preprocessor\u001b[39m\u001b[38;5;124m\"\u001b[39m\n",
      "\u001b[0;31mNameError\u001b[0m: name 'run_id' is not defined"
     ]
    }
   ],
   "source": [
    " "
   ]
  },
  {
   "cell_type": "code",
   "execution_count": null,
   "metadata": {},
   "outputs": [],
   "source": []
  }
 ],
 "metadata": {
  "kernelspec": {
   "display_name": "mlmodel",
   "language": "python",
   "name": "python3"
  },
  "language_info": {
   "codemirror_mode": {
    "name": "ipython",
    "version": 3
   },
   "file_extension": ".py",
   "mimetype": "text/x-python",
   "name": "python",
   "nbconvert_exporter": "python",
   "pygments_lexer": "ipython3",
   "version": "3.10.13"
  }
 },
 "nbformat": 4,
 "nbformat_minor": 2
}
