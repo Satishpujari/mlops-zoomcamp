{
 "cells": [
  {
   "cell_type": "code",
   "execution_count": 14,
   "metadata": {},
   "outputs": [],
   "source": [
    "import mlflow\n",
    "import mlflow.sklearn\n",
    "from mlflow.tracking import MlflowClient"
   ]
  },
  {
   "cell_type": "code",
   "execution_count": 15,
   "metadata": {},
   "outputs": [
    {
     "data": {
      "text/plain": [
       "<Experiment: artifact_location='/workspaces/mlops-zoomcamp/project/mlruns/1', creation_time=1719908297003, experiment_id='1', last_update_time=1719908297003, lifecycle_stage='active', name='nyc-taxi-experiment', tags={}>"
      ]
     },
     "execution_count": 15,
     "metadata": {},
     "output_type": "execute_result"
    }
   ],
   "source": [
    "MLFLOW_TRACKING_URI = \"sqlite:///mlflow.db\"\n",
    "mlflow.set_tracking_uri(MLFLOW_TRACKING_URI)\n",
    "mlflow.set_experiment(\"nyc-taxi-experiment\")"
   ]
  },
  {
   "cell_type": "code",
   "execution_count": 16,
   "metadata": {},
   "outputs": [
    {
     "name": "stderr",
     "output_type": "stream",
     "text": [
      "Registered model 'flight_price_predictor' already exists. Creating a new version of this model...\n",
      "Created version '3' of model 'flight_price_predictor'.\n",
      "Registered model 'flight_price_preprocessor' already exists. Creating a new version of this model...\n",
      "Created version '3' of model 'flight_price_preprocessor'.\n"
     ]
    },
    {
     "data": {
      "text/plain": [
       "<ModelVersion: aliases=[], creation_timestamp=1719929614405, current_stage='None', description=None, last_updated_timestamp=1719929614405, name='flight_price_preprocessor', run_id='2a42bf0a0ebc463c9db441b5b64d7a0e', run_link=None, source='/workspaces/mlops-zoomcamp/project/mlruns/1/2a42bf0a0ebc463c9db441b5b64d7a0e/artifacts/preprocessor', status='READY', status_message=None, tags={}, user_id=None, version=3>"
      ]
     },
     "execution_count": 16,
     "metadata": {},
     "output_type": "execute_result"
    }
   ],
   "source": [
    "def get_latest_run_id(experiment_name):\n",
    "    client = MlflowClient()\n",
    "    experiment_id = '1'\n",
    "    experiment = client.get_experiment_by_name(experiment_name)\n",
    "    if experiment:\n",
    "        experiment_id = experiment.experiment_id\n",
    "        runs = client.search_runs(experiment_id, order_by=[\"start_time DESC\"], max_results=1)\n",
    "        if runs:\n",
    "            return runs[0].info.run_id\n",
    "    return None\n",
    "def load_model_and_preprocessor():\n",
    "    experiment_name = 'nyc-taxi-experiment'\n",
    "    run_id = get_latest_run_id(experiment_name)\n",
    "    print(\"the run_id is \", run_id)\n",
    "\n",
    "    if run_id is None:\n",
    "        raise Exception(f\"No runs found for experiment '{experiment_name}'\")\n",
    "\n",
    "    # Load the model from MLflow using the latest run ID\n",
    "    logged_model = f'runs:/{run_id}/model'\n",
    "    preprocessor_uri = f\"runs:/{run_id}/preprocessor\"\n",
    "    model = mlflow.sklearn.load_model(logged_model)\n",
    "    preprocessor = mlflow.sklearn.load_model(preprocessor_uri)\n",
    "\n",
    "    return model,preprocessor\n",
    "experiment_name = 'nyc-taxi-experiment'\n",
    "run_id = get_latest_run_id(experiment_name)\n",
    "model_name = \"flight_price_predictor\"\n",
    "model_uri = f\"runs:/{run_id}/model\"\n",
    "mlflow.register_model(model_uri, model_name)\n",
    "\n",
    "preprocessor_name = \"flight_price_preprocessor\"\n",
    "preprocessor_uri = f\"runs:/{run_id}/preprocessor\"\n",
    "mlflow.register_model(preprocessor_uri, preprocessor_name)"
   ]
  },
  {
   "cell_type": "code",
   "execution_count": null,
   "metadata": {},
   "outputs": [],
   "source": [
    " "
   ]
  },
  {
   "cell_type": "code",
   "execution_count": null,
   "metadata": {},
   "outputs": [],
   "source": []
  }
 ],
 "metadata": {
  "kernelspec": {
   "display_name": "mlmodel",
   "language": "python",
   "name": "python3"
  },
  "language_info": {
   "codemirror_mode": {
    "name": "ipython",
    "version": 3
   },
   "file_extension": ".py",
   "mimetype": "text/x-python",
   "name": "python",
   "nbconvert_exporter": "python",
   "pygments_lexer": "ipython3",
   "version": "3.10.13"
  }
 },
 "nbformat": 4,
 "nbformat_minor": 2
}
